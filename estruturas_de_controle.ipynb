{
 "metadata": {
  "language_info": {
   "codemirror_mode": {
    "name": "ipython",
    "version": 3
   },
   "file_extension": ".py",
   "mimetype": "text/x-python",
   "name": "python",
   "nbconvert_exporter": "python",
   "pygments_lexer": "ipython3",
   "version": "3.9.1"
  },
  "orig_nbformat": 4,
  "kernelspec": {
   "name": "python3",
   "display_name": "Python 3.9.1 64-bit"
  },
  "interpreter": {
   "hash": "aee8b7b246df8f9039afb4144a1f6fd8d2ca17a180786b69acc140d282b71a49"
  }
 },
 "nbformat": 4,
 "nbformat_minor": 2,
 "cells": [
  {
   "source": [
    "# Dataset"
   ],
   "cell_type": "markdown",
   "metadata": {}
  },
  {
   "source": [
    "lista = [-3, -2, -2, 0, 1,2,3,4,5,6,7,8,9,10,11,12,13,14,15,16,17,18,19,20]\n",
    "palavras =['roma','Roma','Rio','Niterói','Araruama','Cabo Frio','Rezende','Volta Redonda']"
   ],
   "cell_type": "code",
   "metadata": {},
   "execution_count": 56,
   "outputs": []
  },
  {
   "source": [
    "# Exercicio 1\n",
    "#### Escreva seus dados numa mascara e apresente eles."
   ],
   "cell_type": "markdown",
   "metadata": {}
  },
  {
   "cell_type": "code",
   "execution_count": null,
   "metadata": {},
   "outputs": [],
   "source": []
  },
  {
   "source": [
    "# Exercicio 2 e 3\n",
    "## Exercicio 2\n",
    "#### Escreva uma função para contar quantos números ímpares têm a lista\n",
    "\n",
    "## Exercicio 3\n",
    "#### Contar quantos números pares têm a lista."
   ],
   "cell_type": "markdown",
   "metadata": {}
  },
  {
   "cell_type": "code",
   "execution_count": 34,
   "metadata": {},
   "outputs": [
    {
     "output_type": "stream",
     "name": "stdout",
     "text": [
      "Quantidade de números pares: 13\nQuantidade de números ímpares: 11\n"
     ]
    }
   ],
   "source": [
    "def parOuImpar(list):\n",
    "    par = 0\n",
    "    impar = 0\n",
    "    for item in list:\n",
    "        if item % 2 == 0:\n",
    "            par+=1\n",
    "        else:\n",
    "            impar+=1\n",
    "    \n",
    "    print(\"Quantidade de números pares: \" + str(par))\n",
    "    print(\"Quantidade de números ímpares: \" + str(impar))\n",
    "        \n",
    "parOuImpar(lista)"
   ]
  },
  {
   "source": [
    "# Exercicio 4\n",
    "#### Contar os números negativos da lista."
   ],
   "cell_type": "markdown",
   "metadata": {}
  },
  {
   "cell_type": "code",
   "execution_count": 37,
   "metadata": {},
   "outputs": [
    {
     "output_type": "stream",
     "name": "stdout",
     "text": [
      "Quantidade de números negativos: 3\n"
     ]
    }
   ],
   "source": [
    "def negativo(list):\n",
    "    count = 0\n",
    "    for item in list:\n",
    "        if item < 0:\n",
    "            count+=1\n",
    "    \n",
    "    print(\"Quantidade de números negativos: \" + str(count))\n",
    "        \n",
    "negativo(lista)"
   ]
  },
  {
   "source": [
    "# Exercicio 5\n",
    "#### Conte quantas palavras têm tamanho 5 na lista de palavras."
   ],
   "cell_type": "markdown",
   "metadata": {}
  },
  {
   "cell_type": "code",
   "execution_count": 42,
   "metadata": {},
   "outputs": [
    {
     "output_type": "stream",
     "name": "stdout",
     "text": [
      "Quantidade de palavras com 5 letras: 0\n"
     ]
    }
   ],
   "source": [
    "def countPalavras(list, qtd_letras):\n",
    "    count = 0\n",
    "    for item in list:\n",
    "        if len(item) == qtd_letras:\n",
    "            count+=1\n",
    "    print(\"Quantidade de palavras com \" + str(qtd_letras) + \" letras: \" + str(count))\n",
    "\n",
    "\n",
    "countPalavras(palavras, 5)"
   ]
  },
  {
   "source": [
    "# Exercicio 6\n",
    "#### Somar todos os números pares da lista."
   ],
   "cell_type": "markdown",
   "metadata": {}
  },
  {
   "cell_type": "code",
   "execution_count": 47,
   "metadata": {},
   "outputs": [
    {
     "output_type": "stream",
     "name": "stdout",
     "text": [
      "Soma dos números pares: 106\n"
     ]
    }
   ],
   "source": [
    "def somaPar(list):\n",
    "    soma = 0\n",
    "    for item in list:\n",
    "        if item % 2 == 0:\n",
    "            soma+=item\n",
    "        \n",
    "    print(\"Soma dos números pares: \" + str(soma))\n",
    "        \n",
    "somaPar(lista)"
   ]
  },
  {
   "source": [
    "# Exercicio 7\n",
    "#### Ordenar de maior a menor a lista de palavras."
   ],
   "cell_type": "markdown",
   "metadata": {}
  },
  {
   "cell_type": "code",
   "execution_count": 58,
   "metadata": {},
   "outputs": [
    {
     "output_type": "stream",
     "name": "stdout",
     "text": [
      "20\n19\n18\n17\n16\n15\n14\n13\n12\n11\n10\n9\n8\n7\n6\n5\n4\n3\n2\n1\n0\n-2\n-2\n-3\n"
     ]
    }
   ],
   "source": [
    "def ordenar(list):\n",
    "    orderedList = sorted(list, reverse=True)\n",
    "\n",
    "    for item in orderedList:\n",
    "        print(item)\n",
    "\n",
    "ordenar(lista)"
   ]
  },
  {
   "source": [
    "# Exercicio 8\n",
    "#### Modifique o exemplo for 10, para apresentar a tabuada de um número ingressado por teclado."
   ],
   "cell_type": "markdown",
   "metadata": {}
  },
  {
   "cell_type": "code",
   "execution_count": 67,
   "metadata": {},
   "outputs": [
    {
     "output_type": "stream",
     "name": "stdout",
     "text": [
      "4x0 = 0\n4x1 = 4\n4x2 = 8\n4x3 = 12\n4x4 = 16\n4x5 = 20\n4x6 = 24\n4x7 = 28\n4x8 = 32\n4x9 = 36\n4x10 = 40\n"
     ]
    }
   ],
   "source": [
    "def tabuada(numero):\n",
    "    for x in range(11):\n",
    "        mult = x * numero\n",
    "        print(str(numero) + 'x' + str(x) + ' = ' + str(mult))\n",
    "\n",
    "tabuada(4)\n"
   ]
  },
  {
   "source": [
    "# Exercicio 9\n",
    "#### Escreva uma função chamada potencia() que permita uma entrada de um número positivo n e calcule todas as potências de $2^{1}$ até $2^{n}$.\n"
   ],
   "cell_type": "markdown",
   "metadata": {}
  },
  {
   "cell_type": "code",
   "execution_count": 75,
   "metadata": {},
   "outputs": [
    {
     "output_type": "stream",
     "name": "stdout",
     "text": [
      "2^1 = 2\n2^2 = 4\n2^3 = 8\n2^4 = 16\n2^5 = 32\n2^6 = 64\n2^7 = 128\n2^8 = 256\n2^9 = 512\n2^10 = 1024\n"
     ]
    }
   ],
   "source": [
    "def potencia(n):\n",
    "    for x in range (1,n+1):\n",
    "        pot = 2**x\n",
    "        print('2^'+str(x) + ' = ' + str(pot))\n",
    "potencia(10)"
   ]
  },
  {
   "source": [
    "# Exercicio 10\n",
    "#### Escreva uma função que permita verificar se uma lista de enteiros é uma sequência aritmética (se a diferenta entre os elementos sempre é a mesma)\n"
   ],
   "cell_type": "markdown",
   "metadata": {}
  },
  {
   "cell_type": "code",
   "execution_count": null,
   "metadata": {},
   "outputs": [],
   "source": []
  }
 ]
}