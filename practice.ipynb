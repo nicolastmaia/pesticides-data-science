{
    "cells": [
        {
            "cell_type": "code",
            "execution_count": 3,
            "source": [
                "import numpy as np\n"
            ],
            "outputs": [],
            "metadata": {}
        },
        {
            "cell_type": "markdown",
            "source": [
                "# Gerar array com 100 posições de 0 até 100 (exclusivo)"
            ],
            "metadata": {}
        },
        {
            "cell_type": "code",
            "execution_count": 11,
            "source": [
                "A = np.arange(100)\n",
                "A"
            ],
            "outputs": [
                {
                    "output_type": "execute_result",
                    "data": {
                        "text/plain": [
                            "array([ 0,  1,  2,  3,  4,  5,  6,  7,  8,  9, 10, 11, 12, 13, 14, 15, 16,\n",
                            "       17, 18, 19, 20, 21, 22, 23, 24, 25, 26, 27, 28, 29, 30, 31, 32, 33,\n",
                            "       34, 35, 36, 37, 38, 39, 40, 41, 42, 43, 44, 45, 46, 47, 48, 49, 50,\n",
                            "       51, 52, 53, 54, 55, 56, 57, 58, 59, 60, 61, 62, 63, 64, 65, 66, 67,\n",
                            "       68, 69, 70, 71, 72, 73, 74, 75, 76, 77, 78, 79, 80, 81, 82, 83, 84,\n",
                            "       85, 86, 87, 88, 89, 90, 91, 92, 93, 94, 95, 96, 97, 98, 99])"
                        ]
                    },
                    "metadata": {},
                    "execution_count": 11
                }
            ],
            "metadata": {}
        },
        {
            "cell_type": "markdown",
            "source": [
                "# Alterando cada elemento de uma matriz iterativamente:"
            ],
            "metadata": {}
        },
        {
            "cell_type": "code",
            "execution_count": 4,
            "source": [
                "A = np.identity(10, 'int')\n",
                "for i,x in np.ndenumerate(A):\n",
                "  a = np.random.randint(1,10)\n",
                "  A[i] = a\n",
                "A"
            ],
            "outputs": [
                {
                    "output_type": "execute_result",
                    "data": {
                        "text/plain": [
                            "array([[8, 9, 4, 8, 2, 4, 4, 1, 5, 7],\n",
                            "       [8, 6, 1, 1, 8, 3, 2, 4, 6, 2],\n",
                            "       [5, 4, 1, 5, 6, 4, 6, 2, 5, 2],\n",
                            "       [9, 9, 5, 7, 2, 3, 5, 8, 3, 1],\n",
                            "       [1, 9, 3, 1, 6, 9, 5, 2, 7, 9],\n",
                            "       [8, 8, 3, 1, 9, 6, 2, 8, 4, 5],\n",
                            "       [6, 4, 9, 3, 4, 1, 8, 7, 7, 2],\n",
                            "       [7, 8, 2, 6, 4, 5, 6, 6, 9, 9],\n",
                            "       [5, 1, 6, 2, 9, 5, 2, 8, 3, 2],\n",
                            "       [5, 4, 3, 4, 1, 6, 6, 7, 7, 4]])"
                        ]
                    },
                    "metadata": {},
                    "execution_count": 4
                }
            ],
            "metadata": {}
        },
        {
            "cell_type": "code",
            "execution_count": 5,
            "source": [],
            "outputs": [
                {
                    "output_type": "execute_result",
                    "data": {
                        "text/plain": [
                            "array([ 6,  7,  8,  9, 10])"
                        ]
                    },
                    "metadata": {},
                    "execution_count": 5
                }
            ],
            "metadata": {}
        }
    ],
    "metadata": {
        "orig_nbformat": 4,
        "language_info": {
            "name": "python",
            "version": "3.8.10",
            "mimetype": "text/x-python",
            "codemirror_mode": {
                "name": "ipython",
                "version": 3
            },
            "pygments_lexer": "ipython3",
            "nbconvert_exporter": "python",
            "file_extension": ".py"
        },
        "kernelspec": {
            "name": "python3",
            "display_name": "Python 3.8.10 64-bit"
        },
        "interpreter": {
            "hash": "5b3ded1ccb95c1d9bd405e7b823d9e85424cde40fbb5985eb47e999ef50e15b4"
        }
    },
    "nbformat": 4,
    "nbformat_minor": 2
}