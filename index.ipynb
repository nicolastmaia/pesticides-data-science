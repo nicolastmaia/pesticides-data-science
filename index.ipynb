{
    "cells": [
        {
            "cell_type": "markdown",
            "source": [
                "# Import useful libs"
            ],
            "metadata": {}
        },
        {
            "cell_type": "code",
            "execution_count": null,
            "source": [
                "import numpy as np;\n",
                "import pandas as pd;\n",
                "import matplotlib as plt;\n",
                "import geopandas as gpd"
            ],
            "outputs": [],
            "metadata": {}
        },
        {
            "cell_type": "markdown",
            "source": [
                "# Read Auxiliar CSVs"
            ],
            "metadata": {}
        },
        {
            "cell_type": "code",
            "execution_count": null,
            "source": [
                "anotate_codes = pd.read_csv('./datasets/anotate_codes.csv')\n",
                "claim_codes = pd.read_csv('./datasets/claim_codes.csv')\n",
                "commod_type_codes = pd.read_csv('./datasets/commod_type_codes.csv')\n",
                "commodity_codes = pd.read_csv('./datasets/commodity_codes.csv')\n",
                "concen_codes = pd.read_csv('./datasets/concen_codes.csv')\n",
                "confmethod_codes = pd.read_csv('./datasets/confmethod_codes.csv')\n",
                "country_codes = pd.read_csv('./datasets/country_codes.csv')\n",
                "determin_codes = pd.read_csv('./datasets/determin_codes.csv')\n",
                "diisttype_codes = pd.read_csv('./datasets/disttype_codes.csv')\n",
                "extract_codes = pd.read_csv('./datasets/extract_codes.csv')\n",
                "lab_codes = pd.read_csv('./datasets/lab_codes.csv')\n",
                "mean_codes = pd.read_csv('./datasets/mean_codes.csv')\n",
                "origin_codes = pd.read_csv('./datasets/origin_codes.csv')\n",
                "pest_codes = pd.read_csv('./datasets/pest_codes.csv')\n",
                "quantitate_codes = pd.read_csv('./datasets/quantitate_codes.csv')\n",
                "state_codes = pd.read_csv('./datasets/state_codes.csv')\n",
                "test_class_codes = pd.read_csv('./datasets/test_class_codes.csv')\n",
                "tolerance_codes = pd.read_csv('./datasets/tolerance_codes.csv')\n",
                "us_states = pd.read_csv('./datasets/us_states.csv')"
            ],
            "outputs": [],
            "metadata": {}
        },
        {
            "cell_type": "markdown",
            "source": [
                "# Read Samples from all years"
            ],
            "metadata": {}
        },
        {
            "cell_type": "code",
            "execution_count": 365,
            "source": [
                "samples_colums_labels = ('sample_pk','state', 'year', 'month', 'day', 'site', 'commod', 'source_id', 'variety', 'origin', 'country', 'disttype', 'commtype', 'claim', 'quantity', 'growst', 'packst', 'diistst');\n",
                "\n",
                "samples_15 = pd.read_csv('./datasets/database/2015PDPDatabase/PDP15Samples.txt', delimiter=\"|\", names=samples_colums_labels);\n",
                "samples_16 = pd.read_csv('./datasets/database/2016PDPDatabase/PDP16Samples.txt', delimiter=\"|\", names=samples_colums_labels);\n",
                "samples_17 = pd.read_csv('./datasets/database/2017PDPDatabase/PDP17Samples.txt', delimiter=\"|\", names=samples_colums_labels);\n",
                "samples_18 = pd.read_csv('./datasets/database/2018PDPDatabase/PDP18Samples.txt', delimiter=\"|\", names=samples_colums_labels);\n",
                "samples_19 = pd.read_csv('./datasets/database/2019PDPDatabase/PDP19Samples.txt', delimiter=\"|\", names=samples_colums_labels);\n",
                "\n",
                "# Remove imported products\n",
                "samples_15 = samples_15[samples_15['origin']==1]\n",
                "samples_16 = samples_16[samples_16['origin']==1]\n",
                "samples_17 = samples_17[samples_17['origin']==1]\n",
                "samples_18 = samples_18[samples_18['origin']==1]\n",
                "samples_19 = samples_19[samples_19['origin']==1]\n",
                "\n",
                "# Remove unnecessary columns\n",
                "samples_15.drop(columns=['country', 'growst', 'packst', 'diistst'], inplace = True) \n",
                "samples_16.drop(columns=['country', 'growst', 'packst', 'diistst'], inplace = True) \n",
                "samples_17.drop(columns=['country', 'growst', 'packst', 'diistst'], inplace = True) \n",
                "samples_18.drop(columns=['country', 'growst', 'packst', 'diistst'], inplace = True) \n",
                "samples_19.drop(columns=['country', 'growst', 'packst', 'diistst'], inplace = True) "
            ],
            "outputs": [],
            "metadata": {}
        },
        {
            "cell_type": "markdown",
            "source": [
                "# Read Results from all years"
            ],
            "metadata": {}
        },
        {
            "cell_type": "code",
            "execution_count": null,
            "source": [
                "results_colums_labels = ('sample_pk','commod', 'commtype', 'lab', 'pestcode', 'testclass', 'concen', 'lod', 'conunit', 'confmethod', 'confmethod2', 'annotate', 'quantitate', 'mean', 'extract', 'determin');"
            ],
            "outputs": [],
            "metadata": {}
        },
        {
            "cell_type": "code",
            "execution_count": null,
            "source": [
                "results_15 = pd.read_csv('./datasets/database/2015PDPDatabase/PDP15Results.txt', delimiter=\"|\", names=results_colums_labels);\n",
                "results_16 = pd.read_csv('./datasets/database/2016PDPDatabase/PDP16Results.txt', delimiter=\"|\", names=results_colums_labels);\n",
                "results_17 = pd.read_csv('./datasets/database/2017PDPDatabase/PDP17Results.txt', delimiter=\"|\", names=results_colums_labels);\n",
                "results_18 = pd.read_csv('./datasets/database/2018PDPDatabase/PDP18Results.txt', delimiter=\"|\", names=results_colums_labels);\n",
                "results_19 = pd.read_csv('./datasets/database/2019PDPDatabase/PDP19Results.txt', delimiter=\"|\", names=results_colums_labels);"
            ],
            "outputs": [],
            "metadata": {}
        },
        {
            "cell_type": "markdown",
            "source": [
                "# Count each pesticide's presence in all years"
            ],
            "metadata": {}
        },
        {
            "cell_type": "code",
            "execution_count": null,
            "source": [
                "pest_count_general_15 = results_15[\"pestcode\"].value_counts()\n",
                "pest_count_general_16 = results_16[\"pestcode\"].value_counts()\n",
                "pest_count_general_17 = results_17[\"pestcode\"].value_counts()\n",
                "pest_count_general_18 = results_18[\"pestcode\"].value_counts()\n",
                "pest_count_general_19 = results_19[\"pestcode\"].value_counts()"
            ],
            "outputs": [],
            "metadata": {}
        },
        {
            "cell_type": "markdown",
            "source": [
                "# Count each pesticide's presence per state in all years"
            ],
            "metadata": {}
        },
        {
            "cell_type": "code",
            "execution_count": null,
            "source": [
                "pest_state_join_15 = results_15.merge(samples_15,on='sample_pk',how='inner')[['pestcode', 'state']]\n",
                "pest_state_count_15 = pest_state_join_15.value_counts().rename_axis(['pestcode', 'state']).reset_index(name='count')\n",
                "pest_state_count_15 = pest_state_count_15.merge(us_states, on='state', how='inner')"
            ],
            "outputs": [],
            "metadata": {}
        },
        {
            "cell_type": "code",
            "execution_count": null,
            "source": [
                "pest_state_join_16 = results_16.merge(samples_16,on='sample_pk',how='inner')[['pestcode', 'state']]\n",
                "pest_state_count_16 = pest_state_join_16.value_counts().rename_axis(['pestcode', 'state']).reset_index(name='count')\n",
                "pest_state_count_16 = pest_state_count_16.merge(us_states, on='state', how='inner')\n"
            ],
            "outputs": [],
            "metadata": {}
        },
        {
            "cell_type": "code",
            "execution_count": null,
            "source": [
                "pest_state_join_17 = results_17.merge(samples_17,on='sample_pk',how='inner')[['pestcode', 'state']]\n",
                "pest_state_count_17 = pest_state_join_17.value_counts().rename_axis(['pestcode', 'state']).reset_index(name='count')\n",
                "pest_state_count_17 = pest_state_count_17.merge(us_states, on='state', how='inner')\n"
            ],
            "outputs": [],
            "metadata": {}
        },
        {
            "cell_type": "code",
            "execution_count": null,
            "source": [
                "pest_state_join_18 = results_18.merge(samples_18,on='sample_pk',how='inner')[['pestcode', 'state']]\n",
                "pest_state_count_18 = pest_state_join_18.value_counts().rename_axis(['pestcode', 'state']).reset_index(name='count')\n",
                "pest_state_count_18 = pest_state_count_18.merge(us_states, on='state', how='inner')\n"
            ],
            "outputs": [],
            "metadata": {}
        },
        {
            "cell_type": "code",
            "execution_count": null,
            "source": [
                "pest_state_join_19 = results_19.merge(samples_19,on='sample_pk',how='inner')[['pestcode', 'state']]\n",
                "pest_state_count_19 = pest_state_join_19.value_counts().rename_axis(['pestcode', 'state']).reset_index(name='count')\n",
                "pest_state_count_19 = pest_state_count_19.merge(us_states, on='state', how='inner')"
            ],
            "outputs": [],
            "metadata": {}
        },
        {
            "cell_type": "markdown",
            "source": [
                "# Count each pesticide's presence per commodity in all years"
            ],
            "metadata": {}
        },
        {
            "cell_type": "code",
            "execution_count": null,
            "source": [
                "pest_commod_count_15 = results_15[['pestcode','commod']].value_counts().rename_axis(['pestcode', 'commod']).reset_index(name='count')"
            ],
            "outputs": [],
            "metadata": {}
        },
        {
            "cell_type": "code",
            "execution_count": null,
            "source": [
                "pest_commod_count_16 = results_16[['pestcode','commod']].value_counts().rename_axis(['pestcode', 'commod']).reset_index(name='count')"
            ],
            "outputs": [],
            "metadata": {}
        },
        {
            "cell_type": "code",
            "execution_count": null,
            "source": [
                "pest_commod_count_17 = results_17[['pestcode','commod']].value_counts().rename_axis(['pestcode', 'commod']).reset_index(name='count')"
            ],
            "outputs": [],
            "metadata": {}
        },
        {
            "cell_type": "code",
            "execution_count": null,
            "source": [
                "pest_commod_count_18 = results_18[['pestcode','commod']].value_counts().rename_axis(['pestcode', 'commod']).reset_index(name='count')"
            ],
            "outputs": [],
            "metadata": {}
        },
        {
            "cell_type": "code",
            "execution_count": null,
            "source": [
                "pest_commod_count_19 = results_19[['pestcode','commod']].value_counts().rename_axis(['pestcode', 'commod']).reset_index(name='count')"
            ],
            "outputs": [],
            "metadata": {}
        }
    ],
    "metadata": {
        "orig_nbformat": 4,
        "language_info": {
            "name": "python",
            "version": "3.8.10",
            "mimetype": "text/x-python",
            "codemirror_mode": {
                "name": "ipython",
                "version": 3
            },
            "pygments_lexer": "ipython3",
            "nbconvert_exporter": "python",
            "file_extension": ".py"
        },
        "kernelspec": {
            "name": "python3",
            "display_name": "Python 3.8.10 64-bit"
        },
        "interpreter": {
            "hash": "31f2aee4e71d21fbe5cf8b01ff0e069b9275f58929596ceb00d14d90e3e16cd6"
        }
    },
    "nbformat": 4,
    "nbformat_minor": 2
}