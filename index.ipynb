{
    "cells": [
        {
            "cell_type": "markdown",
            "source": [
                "# Import useful libs"
            ],
            "metadata": {}
        },
        {
            "cell_type": "code",
            "execution_count": null,
            "source": [
                "import numpy as np;\n",
                "import pandas as pd;\n",
                "import matplotlib as plt;"
            ],
            "outputs": [],
            "metadata": {}
        },
        {
            "cell_type": "markdown",
            "source": [
                "# Read aux CSVs"
            ],
            "metadata": {}
        },
        {
            "cell_type": "code",
            "execution_count": null,
            "source": [
                "anotate_codes = pd.read_csv('./datasets/anotate_codes.csv')\n",
                "claim_codes = pd.read_csv('./datasets/claim_codes.csv')\n",
                "commod_type_codes = pd.read_csv('./datasets/commod_type_codes.csv')\n",
                "commodity_codes = pd.read_csv('./datasets/commodity_codes.csv')\n",
                "concen_codes = pd.read_csv('./datasets/concen_codes.csv')\n",
                "confmethod_codes = pd.read_csv('./datasets/confmethod_codes.csv')\n",
                "country_codes = pd.read_csv('./datasets/country_codes.csv')\n",
                "determin_codes = pd.read_csv('./datasets/determin_codes.csv')\n",
                "diisttype_codes = pd.read_csv('./datasets/disttype_codes.csv')\n",
                "extract_codes = pd.read_csv('./datasets/extract_codes.csv')\n",
                "lab_codes = pd.read_csv('./datasets/lab_codes.csv')\n",
                "mean_codes = pd.read_csv('./datasets/mean_codes.csv')\n",
                "origin_codes = pd.read_csv('./datasets/origin_codes.csv')\n",
                "pest_codes = pd.read_csv('./datasets/pest_codes.csv')\n",
                "quantitate_codes = pd.read_csv('./datasets/quantitate_codes.csv')\n",
                "state_codes = pd.read_csv('./datasets/state_codes.csv')\n",
                "test_class_codes = pd.read_csv('./datasets/test_class_codes.csv')\n",
                "tolerance_codes = pd.read_csv('./datasets/tolerance_codes.csv')"
            ],
            "outputs": [],
            "metadata": {}
        },
        {
            "cell_type": "markdown",
            "source": [
                "# Read Samples from all years"
            ],
            "metadata": {}
        },
        {
            "cell_type": "code",
            "execution_count": null,
            "source": [
                "samples_colums_labels = ('sample_pk','state', 'year', 'month', 'day', 'site', 'commod', 'source_id', 'variety', 'origin', 'country', 'disttype', 'commtype', 'claim', 'quantity', 'growst', 'packst', 'diistst');"
            ],
            "outputs": [],
            "metadata": {}
        },
        {
            "cell_type": "code",
            "execution_count": null,
            "source": [
                "samples_2015 = pd.read_csv('./datasets/database/2015PDPDatabase/PDP15Samples.txt', delimiter=\"|\", names=samples_colums_labels);\n",
                "samples_2016 = pd.read_csv('./datasets/database/2016PDPDatabase/PDP16Samples.txt', delimiter=\"|\", names=samples_colums_labels);\n",
                "samples_2017 = pd.read_csv('./datasets/database/2017PDPDatabase/PDP17Samples.txt', delimiter=\"|\", names=samples_colums_labels);\n",
                "samples_2018 = pd.read_csv('./datasets/database/2018PDPDatabase/PDP18Samples.txt', delimiter=\"|\", names=samples_colums_labels);\n",
                "samples_2019 = pd.read_csv('./datasets/database/2019PDPDatabase/PDP19Samples.txt', delimiter=\"|\", names=samples_colums_labels);"
            ],
            "outputs": [],
            "metadata": {}
        },
        {
            "cell_type": "markdown",
            "source": [
                "# Read Results from all years"
            ],
            "metadata": {}
        },
        {
            "cell_type": "code",
            "execution_count": null,
            "source": [
                "results_colums_labels = ('sample_pk','commod', 'commtype', 'lab', 'pestcode', 'testclass', 'concen', 'lod', 'conunit', 'confmethod', 'confmethod2', 'annotate', 'quantitate', 'mean', 'extract', 'determin');"
            ],
            "outputs": [],
            "metadata": {}
        },
        {
            "cell_type": "code",
            "execution_count": null,
            "source": [
                "results_2015 = pd.read_csv('./datasets/database/2015PDPDatabase/PDP15Results.txt', delimiter=\"|\", names=results_colums_labels);\n",
                "results_2016 = pd.read_csv('./datasets/database/2016PDPDatabase/PDP16Results.txt', delimiter=\"|\", names=results_colums_labels);\n",
                "results_2017 = pd.read_csv('./datasets/database/2017PDPDatabase/PDP17Results.txt', delimiter=\"|\", names=results_colums_labels);\n",
                "results_2018 = pd.read_csv('./datasets/database/2018PDPDatabase/PDP18Results.txt', delimiter=\"|\", names=results_colums_labels);\n",
                "results_2019 = pd.read_csv('./datasets/database/2019PDPDatabase/PDP19Results.txt', delimiter=\"|\", names=results_colums_labels);"
            ],
            "outputs": [],
            "metadata": {}
        },
        {
            "cell_type": "code",
            "execution_count": null,
            "source": [],
            "outputs": [],
            "metadata": {}
        }
    ],
    "metadata": {
        "orig_nbformat": 4,
        "language_info": {
            "name": "python",
            "version": "3.8.10",
            "mimetype": "text/x-python",
            "codemirror_mode": {
                "name": "ipython",
                "version": 3
            },
            "pygments_lexer": "ipython3",
            "nbconvert_exporter": "python",
            "file_extension": ".py"
        },
        "kernelspec": {
            "name": "python3",
            "display_name": "Python 3.8.5 64-bit"
        },
        "interpreter": {
            "hash": "31f2aee4e71d21fbe5cf8b01ff0e069b9275f58929596ceb00d14d90e3e16cd6"
        }
    },
    "nbformat": 4,
    "nbformat_minor": 2
}